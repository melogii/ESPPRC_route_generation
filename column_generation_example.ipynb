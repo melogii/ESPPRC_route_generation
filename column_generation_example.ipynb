{
 "cells": [
  {
   "cell_type": "markdown",
   "metadata": {},
   "source": [
    "## Column Generation example"
   ]
  },
  {
   "cell_type": "code",
   "execution_count": 1,
   "metadata": {},
   "outputs": [],
   "source": [
    "using HiGHS\n",
    "using JuMP"
   ]
  },
  {
   "cell_type": "code",
   "execution_count": 2,
   "metadata": {},
   "outputs": [],
   "source": [
    "mutable struct Label\n",
    "\n",
    "    C :: Float64\n",
    "    R :: Vector{Float64}\n",
    "    s :: Integer\n",
    "    V :: Vector{Float64}\n",
    "\n",
    "    Label(C, R, V) = new(C, copy(R), sum(0 .< V), copy(V))\n",
    "\n",
    "end"
   ]
  },
  {
   "cell_type": "code",
   "execution_count": 3,
   "metadata": {},
   "outputs": [
    {
     "data": {
      "text/plain": [
       "Label"
      ]
     },
     "metadata": {},
     "output_type": "display_data"
    }
   ],
   "source": [
    "Label(L, n) = Label(Inf, zeros(Int, L), zeros(Int, n))"
   ]
  },
  {
   "cell_type": "code",
   "execution_count": 4,
   "metadata": {},
   "outputs": [],
   "source": [
    "import Base"
   ]
  },
  {
   "cell_type": "code",
   "execution_count": 5,
   "metadata": {},
   "outputs": [],
   "source": [
    "\"\"\"\n",
    "This function implements the idea of dominated labels, that is `x ≤ y` if and only if `y` is dominated by `x`\n",
    "\"\"\"\n",
    "\n",
    "function Base.:<=(x :: Label, y :: Label)\n",
    "\n",
    "    return (x.C <= y.C) && all(x.R .<= y.R) && (x.s <= y.s) && all(p -> (p[1] == 0) || (p[2] > 0), zip(x.V, y.V))\n",
    "\n",
    "end"
   ]
  },
  {
   "cell_type": "code",
   "execution_count": 6,
   "metadata": {},
   "outputs": [],
   "source": [
    "function Base.isequal(x :: Label, y :: Label)\n",
    "\n",
    "    # Attention to the use of == for real numbers!!\n",
    "    return (x.C == y.C) && all(x.R .== y.R) && (x.s == y.s) && all(x.V .== y.V)\n",
    "\n",
    "end"
   ]
  },
  {
   "cell_type": "code",
   "execution_count": 7,
   "metadata": {},
   "outputs": [],
   "source": [
    "function Base.copy(λ :: Label)\n",
    "\n",
    "    return Label(λ.C, λ.R, λ.V)\n",
    "\n",
    "end"
   ]
  },
  {
   "cell_type": "code",
   "execution_count": 8,
   "metadata": {},
   "outputs": [
    {
     "data": {
      "text/plain": [
       "tovec (generic function with 1 method)"
      ]
     },
     "metadata": {},
     "output_type": "display_data"
    }
   ],
   "source": [
    "# Auxiliary functions\n",
    "fromvec(v) = Label(v[1], [v[3]], v[4:end])\n",
    "tovec(λ) = [λ.C; λ.s; λ.R...; λ.V...]"
   ]
  },
  {
   "cell_type": "markdown",
   "metadata": {},
   "source": [
    "## ESPPRC"
   ]
  },
  {
   "cell_type": "code",
   "execution_count": 9,
   "metadata": {},
   "outputs": [
    {
     "data": {
      "text/plain": [
       "ESPPRC"
      ]
     },
     "metadata": {},
     "output_type": "display_data"
    }
   ],
   "source": [
    "\"\"\"\n",
    "Functionality: applies the label correcting algorithm on a totally connected graph for the ESPPRC.\n",
    "\n",
    "### Input:\n",
    "    V - set of vertices of the graph;\n",
    "    S - matrix nxn where each entry represents the objective value gained by traveling along each edge of the graph;\n",
    "    T - matrix nxn where T[i,j] corresponds to time used to travel from destination of i to origin of j + time from\n",
    "    origin of j to destination of j;\n",
    "    L - Float64 coresponding to upper limit for time resource;\n",
    "    W - matrix nx2 containing the time window of each vertex;\n",
    "    Lambda - matrix nx1 where each entry is the set of labels of the corresponding vertex;\n",
    "    n - number of vertices of the graph.\n",
    "\n",
    "### Output:\n",
    "    Lambda - matrix nx1 where each entry is the set of labels of the corresponding vertex;\n",
    "    bests - optimal objective function value (the entire label)\n",
    "\n",
    "\"\"\"\n",
    "function ESPPRC(V, S, T, L, W, Λ, n)\n",
    "    \n",
    "    bests = Label(1, n)\n",
    "    \n",
    "    i = 1\n",
    "    \n",
    "    j = 1\n",
    "    \n",
    "    E = zeros(n)\n",
    "\n",
    "    E[1] = 1\n",
    "\n",
    "    F = Set([])\n",
    "    \n",
    "    changed = false\n",
    "    \n",
    "    while sum(E) != 0\n",
    "        \n",
    "        if E[i] != 0\n",
    "                \n",
    "            for k in 0:(n-2) # i is the vertice we are treating and k varies along 0 to n-2\n",
    "                \n",
    "                j = (i+k) % n + 1  # j is a vertice we may extend a rotule to\n",
    "                                \n",
    "                for λ in Λ[i]\n",
    "\n",
    "                    if λ.V[j] == 0 # if the extension is possible, we do that\n",
    "                        \n",
    "                        F = union(F, Set([Extend(λ, i, j, S, T, L, W)])) \n",
    "\n",
    "                    end\n",
    "                    \n",
    "                end\n",
    "                \n",
    "                Λ[j], changed, bests = EFF(Λ[j], F, bests)\n",
    "\n",
    "                F = Set([])\n",
    "\n",
    "                if changed\n",
    "                    \n",
    "                    E[j] = 1\n",
    "                    \n",
    "                end\n",
    "                \n",
    "            end\n",
    "            \n",
    "            E[i] = 0\n",
    "            \n",
    "        end\n",
    "        \n",
    "        i = i % n + 1\n",
    "        \n",
    "    end\n",
    "\n",
    "    return Λ, bests\n",
    "\n",
    "end"
   ]
  },
  {
   "cell_type": "markdown",
   "metadata": {},
   "source": [
    "## Extend"
   ]
  },
  {
   "cell_type": "code",
   "execution_count": 10,
   "metadata": {},
   "outputs": [
    {
     "data": {
      "text/plain": [
       "Extend"
      ]
     },
     "metadata": {},
     "output_type": "display_data"
    }
   ],
   "source": [
    "\"\"\"\n",
    "Functionality: extend a label from vertice i to vertice j (by certification in ESPPRC(), the extension will always be possible)\n",
    "\n",
    "### Input:\n",
    "    lambda_i - matrix (2+n)x1 label to be extended from i;\n",
    "    i - vertice that holds the current label;\n",
    "    j - vertice that will receive a new label;\n",
    "    T - matrix nxn where T[i,j] corresponds to time used to travel from destination of i to origin of j + time from\n",
    "    origin of j to destination of j;\n",
    "    L - Float64 coresponding to upper limit for time resource;\n",
    "    W - matrix nx2 containing the time window of each vertex.\n",
    "\n",
    "### Output:\n",
    "    lambda_j - matrix (2+n)x1 (extended label).\n",
    "\"\"\"\n",
    "function Extend(λ_i, i, j, S, T, L, W)\n",
    "    \n",
    "    viavel = true\n",
    "\n",
    "    λ_j = copy(λ_i)\n",
    "\n",
    "    λ_j.R[1] = max(W[j, 1], λ_j.R[1] + T[i,j]) # we update time traveled and mark j as unreachable if lambda_j[2] + T[i,j] < W[j, 1] it means\n",
    "\n",
    "    # that we arrived at the task before the beggining of the time window of excution of the task, o we must wait\n",
    "    \n",
    "    # uptading the order in which task j was done\n",
    "    \n",
    "    order = 1\n",
    "    \n",
    "    for k in λ_j.V\n",
    "        if (k != Inf) && (k > order)\n",
    "            order = k\n",
    "        end\n",
    "    end\n",
    "    \n",
    "    λ_j.V[j] = order + 1\n",
    "\n",
    "    # updating resource usage\n",
    "    \n",
    "    # first entry corresponds to objective function value (number of tasks completed)\n",
    "\n",
    "    λ_j.C += S[i,j]\n",
    "    \n",
    "    # uptading unreachable vertices from j now  \n",
    "    \n",
    "    for k in 1:n\n",
    "        \n",
    "        if λ_j.V[k] == 0\n",
    "\n",
    "            # We take into account the time a vehicle would have to wait to complete two consecutive tasks\n",
    "            \n",
    "            if λ_j.R[1] + T[j,k] > W[k,2] || λ_j.R[1] + T[j,k] < W[k,1] - 5 || (λ_j.R[1] + T[j,k]) > L # Here, 5 is the limit imposed for the idle time of the vehicle\n",
    "\n",
    "                λ_j.V[k] = Inf\n",
    "                \n",
    "            end\n",
    "\n",
    "        end\n",
    "        \n",
    "    end\n",
    "    \n",
    "    λ_j.s = sum(λ_j.V .> 0) # measuring unreachable vertices (visited, impossible to visit or not so great to visit)  \n",
    "        \n",
    "    return λ_j\n",
    "    \n",
    "end"
   ]
  },
  {
   "cell_type": "markdown",
   "metadata": {},
   "source": [
    "## EFF"
   ]
  },
  {
   "cell_type": "code",
   "execution_count": 11,
   "metadata": {},
   "outputs": [
    {
     "data": {
      "text/plain": [
       "EFF"
      ]
     },
     "metadata": {},
     "output_type": "display_data"
    }
   ],
   "source": [
    "\"\"\"\n",
    "Functionality: maintain the Lambda sets totally incomparable. Verifies which label can enter and apply the domination rule to remove\n",
    "labels from the set.\n",
    "\n",
    "### Input:\n",
    "    Lambda - set of labels of a vertice;\n",
    "    F - set of newly extended labels (that will possibly enter Lambda);\n",
    "    bests - best objective function value (the entire label) obtained so far.\n",
    "\n",
    "### Output:\n",
    "    tmplambda - set Lambda possibly altered;\n",
    "    changed - boolean that stores if Lambda was altered;\n",
    "    bests - best objective function value (the entire label) obtained so far.\n",
    "\"\"\"\n",
    "function EFF(Λ :: Set, F :: Set, bests)\n",
    "        \n",
    "    dominated = false\n",
    "    \n",
    "    changed = false\n",
    "    \n",
    "    tmplambda = copy(Λ)\n",
    "    \n",
    "    if isempty(Λ) && !isempty(F)\n",
    "        \n",
    "        changed = true \n",
    "        \n",
    "        for λ in F\n",
    "            if λ.C < bests.C\n",
    "                bests = λ\n",
    "            end\n",
    "        end\n",
    "        \n",
    "        return F, changed, bests\n",
    "        \n",
    "    else\n",
    "        \n",
    "        if isempty(F)\n",
    "            \n",
    "            changed = false\n",
    "            \n",
    "            return Λ, changed, bests\n",
    "            \n",
    "        else\n",
    "            \n",
    "            for λ_f in F\n",
    "                \n",
    "                for λ in tmplambda \n",
    "\n",
    "                    if λ <= λ_f && λ != λ_f\n",
    "                        \n",
    "                        dominated = true\n",
    "                        \n",
    "                        println(\"Dominated $(λ_f) by $(λ)\")\n",
    "                        \n",
    "                    end\n",
    "                    \n",
    "                    \n",
    "                    if (λ == λ_f) || dominated\n",
    "                        \n",
    "                        break\n",
    "                        \n",
    "                    end\n",
    "                    \n",
    "                    \n",
    "                end\n",
    "                \n",
    "                if !dominated && !(λ_f in tmplambda)\n",
    "                    \n",
    "                    changed = true\n",
    "                                        \n",
    "                    for λ in tmplambda\n",
    "\n",
    "                        if λ_f <= λ\n",
    "                            \n",
    "                            dominated = true \n",
    "                            \n",
    "                            println(\"Dominated $(λ) by $(λ_f)\")\n",
    "                            \n",
    "                            if dominated\n",
    "                            \n",
    "                                tmplambda = setdiff(tmplambda, Set([λ]))\n",
    "                                \n",
    "                            end\n",
    "                            \n",
    "                        end\n",
    "                        \n",
    "                    end\n",
    "                    \n",
    "                    tmplambda = union!(tmplambda, Set([λ_f]))\n",
    "                                        \n",
    "                    if λ_f.C < bests.C\n",
    "                        \n",
    "                        bests = λ_f\n",
    "                    \n",
    "                    end\n",
    "                    \n",
    "                end\n",
    "                \n",
    "                dominated = false\n",
    "            \n",
    "            end\n",
    "            \n",
    "        end\n",
    "        \n",
    "    end\n",
    "    \n",
    "    return tmplambda, changed, bests\n",
    "    \n",
    "end"
   ]
  },
  {
   "cell_type": "markdown",
   "metadata": {},
   "source": [
    "## Data creation"
   ]
  },
  {
   "cell_type": "code",
   "execution_count": 12,
   "metadata": {},
   "outputs": [
    {
     "data": {
      "text/plain": [
       "2-element Vector{Float64}:\n",
       "  0.0\n",
       " 40.0"
      ]
     },
     "metadata": {},
     "output_type": "display_data"
    }
   ],
   "source": [
    "# Creating data for the small instance\n",
    "\n",
    "# distance matrix C (between sites of delivery)\n",
    "\n",
    "m = 3 # number of sites\n",
    "\n",
    "r = 3 # number of original tasks (not containing artificial ones)\n",
    "\n",
    "n = r + 2\n",
    "\n",
    "C = Array{Float64}(undef, m, m)\n",
    "\n",
    "for i in 1:m\n",
    "\n",
    "    C[i,i] = 0.0\n",
    "\n",
    "end\n",
    "\n",
    "C[1,2] = 3 \n",
    "\n",
    "C[1,3] = 5\n",
    "\n",
    "C[2,3] = 10\n",
    "\n",
    "for i in 0:m-1\n",
    "\n",
    "    for j in 0:m-1\n",
    "\n",
    "        C[m-i,m-j] = C[m-j,m-i]\n",
    "\n",
    "    end\n",
    "\n",
    "end\n",
    "\n",
    "task = Array{Int64}(undef, r, 2)\n",
    "\n",
    "task[1,:] = [1, 2]\n",
    "\n",
    "task[2,:] = [1, 3]\n",
    "\n",
    "task[3,:] = [2, 3]\n",
    "\n",
    "L = 40.0\n",
    "\n",
    "W = Array{Float64}(undef, n, 2)\n",
    "\n",
    "W[1,:] = [0, L]\n",
    "\n",
    "W[2,:] = [3.0, 7]\n",
    "\n",
    "W[3,:] = [0, 5]\n",
    "\n",
    "W[4,:] = [0, 13]\n",
    "\n",
    "W[5,:] = [0, L]\n",
    "\n"
   ]
  },
  {
   "cell_type": "code",
   "execution_count": 15,
   "metadata": {},
   "outputs": [
    {
     "data": {
      "text/plain": [
       "data"
      ]
     },
     "metadata": {},
     "output_type": "display_data"
    }
   ],
   "source": [
    "\"\"\"\n",
    "Functionality: creates data according parameters for the ESPPRC.\n",
    "\n",
    "### Input:\n",
    "    n - number of tasks(certices) of the graph (including origin and destination);\n",
    "    L - Float64 upper limit for time resource;\n",
    "    dual - matrix 4x1 including dual variables (in order: lambda_0, lambda_1, lambda_2 AND lambda_3)\n",
    "    C - matrix mxm corresponding to the distance matrix between the m cities;\n",
    "    task - matrix(n-2)x2 where first column corresponds to origin and second column destination of the task represented by that ith row\n",
    "    W - matrix nx2 with interval of execution of each task\n",
    "\n",
    "### Output:\n",
    "    V, S, T, L, W, Lambda, n - output that will be the according input of ESPPRC (check ESPPRC documentation)\n",
    "\n",
    "\"\"\"\n",
    "function data(n, L, dual, C, task, W)\n",
    "\n",
    "    V = Set([i for i in 1:n])\n",
    "\n",
    "    \n",
    "    T = zeros(n,n)\n",
    "\n",
    "    for i in 1:n\n",
    "\n",
    "        T[i,i] = 100\n",
    "\n",
    "    end\n",
    "\n",
    "    T[2:n-1,1] = [100.0, 100, 100]\n",
    "\n",
    "    T[n,:] = [100, 100, 100, 100, 100]\n",
    "\n",
    "    T[1:n-1,n] = [0, 0, 0, 0]\n",
    "\n",
    "    for i in 2:n-1\n",
    "\n",
    "        for j in 2:n-1 \n",
    "\n",
    "            if i!=j\n",
    "\n",
    "                T[i,j] = C[task[i-1,2], task[j-1,1]] + C[task[j-1,1], task[j-1,2]]\n",
    "\n",
    "            end\n",
    "\n",
    "        end\n",
    "\n",
    "    end\n",
    "\n",
    "\n",
    "    for j in 2:n-1 \n",
    "\n",
    "        T[1,j] = C[task[1,1], task[j-1,1]] + C[task[j-1,1], task[j-1,2]]\n",
    "\n",
    "    end\n",
    "\n",
    "\n",
    "    Lambda = Array{Any,1}(undef, n)\n",
    "\n",
    "    label_origin = Label(0, [0.0], zeros(n))\n",
    "\n",
    "    label_origin.V[1] = 1.0\n",
    "\n",
    "    Lambda[1] = Set([label_origin])\n",
    "\n",
    "    for i in 2:n\n",
    "        Lambda[i] = Set([])\n",
    "    end\n",
    "\n",
    "    S = Array{Float64}(undef, n, n)\n",
    "\n",
    "    S[:, 1] .= 0\n",
    "\n",
    "    S[:, end] .= 0\n",
    "\n",
    "    S[1, end] = 0\n",
    "\n",
    "    for i in 2:n\n",
    "\n",
    "        for j in 2:n-1\n",
    "\n",
    "            S[i,j] = -1 - dual[j]\n",
    "\n",
    "        end\n",
    "\n",
    "    end\n",
    "    \n",
    "    for j in 2:n-1\n",
    "\n",
    "        S[1,j] = -1 - dual[j] - dual[1]\n",
    "\n",
    "    end\n",
    "\n",
    "    return V, S, T, L, W, Lambda, n\n",
    "end"
   ]
  },
  {
   "cell_type": "markdown",
   "metadata": {},
   "source": [
    "## Examples"
   ]
  },
  {
   "cell_type": "code",
   "execution_count": 16,
   "metadata": {},
   "outputs": [
    {
     "name": "stdout",
     "output_type": "stream",
     "text": [
      "Dominated Label(0.0, [13.0], 4, [1.0, Inf, Inf, 2.0, 0.0]) by Label(-1.0, [13.0], 4, [1.0, 2.0, Inf, 3.0, 0.0])\n",
      "Dominated Label(-1.0, [5.0], 5, [1.0, Inf, 2.0, Inf, 3.0]) by Label(-1.0, [3.0], 5, [1.0, 2.0, Inf, Inf, 3.0])\n",
      "Dominated Label(-1.0, [13.0], 5, [1.0, 2.0, Inf, 3.0, 4.0]) by Label(-1.0, [3.0], 5, [1.0, 2.0, Inf, Inf, 3.0])\n"
     ]
    },
    {
     "data": {
      "text/plain": [
       "(Any[Set(Label[Label(0.0, [0.0], 0, [1.0, 0.0, 0.0, 0.0, 0.0])]), Set(Any[Label(-1.0, [3.0], 3, [1.0, 2.0, Inf, 0.0, 0.0])]), Set(Any[Label(-1.0, [5.0], 4, [1.0, Inf, 2.0, Inf, 0.0])]), Set(Any[Label(-1.0, [13.0], 4, [1.0, 2.0, Inf, 3.0, 0.0])]), Set(Any[Label(0.0, [0.0], 5, [1.0, Inf, Inf, Inf, 2.0]), Label(-1.0, [3.0], 5, [1.0, 2.0, Inf, Inf, 3.0])])], Label(-1.0, [3.0], 3, [1.0, 2.0, Inf, 0.0, 0.0]))"
      ]
     },
     "metadata": {},
     "output_type": "display_data"
    }
   ],
   "source": [
    "dual = [0, 0, 0, -1]\n",
    "\n",
    "V, S, T, L, W, Lambda, n = data(5, 40, dual, C, task, W)\n",
    "ESPPRC(V, S, T, L, W, Lambda, n)"
   ]
  }
 ],
 "metadata": {
  "kernelspec": {
   "display_name": "Julia 1.7.3",
   "language": "julia",
   "name": "julia-1.7"
  },
  "language_info": {
   "file_extension": ".jl",
   "mimetype": "application/julia",
   "name": "julia",
   "version": "1.7.3"
  }
 },
 "nbformat": 4,
 "nbformat_minor": 2
}
